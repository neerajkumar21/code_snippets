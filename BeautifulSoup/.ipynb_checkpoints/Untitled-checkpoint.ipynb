{
 "cells": [
  {
   "cell_type": "code",
   "execution_count": 1,
   "metadata": {},
   "outputs": [],
   "source": [
    "from bs4 import BeautifulSoup\n",
    "import requests"
   ]
  },
  {
   "cell_type": "code",
   "execution_count": 7,
   "metadata": {},
   "outputs": [],
   "source": [
    "with open('restaurants.html', encoding=\"utf8\") as html_file:\n",
    "    soup = BeautifulSoup(html_file, 'lxml')"
   ]
  },
  {
   "cell_type": "code",
   "execution_count": 10,
   "metadata": {},
   "outputs": [],
   "source": [
    "div1 = soup.find(\"div\", class_ = \"_1llCuDZj\")"
   ]
  },
  {
   "cell_type": "code",
   "execution_count": 16,
   "metadata": {},
   "outputs": [
    {
     "data": {
      "text/plain": [
       "'Ho Jiak Haymarket'"
      ]
     },
     "execution_count": 16,
     "metadata": {},
     "output_type": "execute_result"
    }
   ],
   "source": [
    "div1.find(\"div\", class_ = \"_2Q7zqOgW\").a.text"
   ]
  },
  {
   "cell_type": "code",
   "execution_count": 28,
   "metadata": {},
   "outputs": [],
   "source": [
    "name = []\n",
    "link = []\n",
    "for div in soup.find_all(\"div\", class_ = \"_1llCuDZj\"):\n",
    "    name.append(div.find(\"div\", class_ = \"_2Q7zqOgW\").a.text)\n",
    "    link.append(div.find(\"div\", class_ = \"_2Q7zqOgW\").a[\"href\"])"
   ]
  },
  {
   "cell_type": "code",
   "execution_count": 29,
   "metadata": {},
   "outputs": [],
   "source": [
    "for i in range(0, len(link)):\n",
    "    link[i] = 'https://www.tripadvisor.in' + link[i]"
   ]
  },
  {
   "cell_type": "code",
   "execution_count": 30,
   "metadata": {},
   "outputs": [
    {
     "data": {
      "text/plain": [
       "35"
      ]
     },
     "execution_count": 30,
     "metadata": {},
     "output_type": "execute_result"
    }
   ],
   "source": [
    "len(link)"
   ]
  },
  {
   "cell_type": "code",
   "execution_count": 31,
   "metadata": {},
   "outputs": [
    {
     "data": {
      "text/plain": [
       "['https://www.tripadvisor.in/Restaurant_Review-g255060-d13372384-Reviews-Ho_Jiak_Haymarket-Sydney_New_South_Wales.html',\n",
       " 'https://www.tripadvisor.in/Restaurant_Review-g4366266-d724848-Reviews-Flavour_of_India-Edgecliff_Woollahra_New_South_Wales.html',\n",
       " 'https://www.tripadvisor.in/Restaurant_Review-g8572746-d947832-Reviews-Thai_Pothong-Newtown_New_South_Wales.html',\n",
       " 'https://www.tripadvisor.in/Restaurant_Review-g255060-d948797-Reviews-Malabar_South_Indian_Restaurant_in_Darlinghurst-Sydney_New_South_Wales.html',\n",
       " 'https://www.tripadvisor.in/Restaurant_Review-g255060-d5575066-Reviews-Fortune_Village_Chinese_Restaurant-Sydney_New_South_Wales.html',\n",
       " 'https://www.tripadvisor.in/Restaurant_Review-g255060-d6370288-Reviews-Pizza_Boccone-Sydney_New_South_Wales.html',\n",
       " 'https://www.tripadvisor.in/Restaurant_Review-g255060-d19753394-Reviews-Global_Dining_and_Bar-Sydney_New_South_Wales.html',\n",
       " 'https://www.tripadvisor.in/Restaurant_Review-g255060-d6577480-Reviews-Pizza_Autentico_Surry_Hills-Sydney_New_South_Wales.html',\n",
       " 'https://www.tripadvisor.in/Restaurant_Review-g255060-d724847-Reviews-Nawaz_Flavour_Of_India-Sydney_New_South_Wales.html',\n",
       " 'https://www.tripadvisor.in/Restaurant_Review-g255060-d9712258-Reviews-Al_Taglio-Sydney_New_South_Wales.html',\n",
       " 'https://www.tripadvisor.in/Restaurant_Review-g2686273-d4068831-Reviews-Chedi_Thai-McMahons_Point_North_Sydney_Greater_Sydney_New_South_Wales.html',\n",
       " 'https://www.tripadvisor.in/Restaurant_Review-g255060-d866763-Reviews-Chat_Thai_Haymarket-Sydney_New_South_Wales.html',\n",
       " 'https://www.tripadvisor.in/Restaurant_Review-g255060-d12829192-Reviews-Vizio_Caffe_e_Cucina-Sydney_New_South_Wales.html',\n",
       " 'https://www.tripadvisor.in/Restaurant_Review-g255060-d8683802-Reviews-Bombay_Street_Kitchen-Sydney_New_South_Wales.html',\n",
       " 'https://www.tripadvisor.in/Restaurant_Review-g8572746-d2449367-Reviews-Atom_Thai-Newtown_New_South_Wales.html',\n",
       " 'https://www.tripadvisor.in/Restaurant_Review-g255060-d10387473-Reviews-Kindness_Cafe-Sydney_New_South_Wales.html',\n",
       " 'https://www.tripadvisor.in/Restaurant_Review-g8572746-d738177-Reviews-Delhi_O_Delhi-Newtown_New_South_Wales.html',\n",
       " 'https://www.tripadvisor.in/Restaurant_Review-g255060-d726951-Reviews-Macchiato_Wood_Fire_Pizza_Coffee_Roastery-Sydney_New_South_Wales.html',\n",
       " 'https://www.tripadvisor.in/Restaurant_Review-g3675710-d726575-Reviews-La_Ricetta_Ristorante_Italiano-Enmore_New_South_Wales.html',\n",
       " 'https://www.tripadvisor.in/Restaurant_Review-g255060-d8845928-Reviews-Manjits_Wharf-Sydney_New_South_Wales.html',\n",
       " 'https://www.tripadvisor.in/Restaurant_Review-g255060-d6387636-Reviews-The_Colonial_British_Indian_Cuisine_Darlinghurst-Sydney_New_South_Wales.html',\n",
       " 'https://www.tripadvisor.in/Restaurant_Review-g255060-d729159-Reviews-Vrindavan_Indian_Restaurant-Sydney_New_South_Wales.html',\n",
       " 'https://www.tripadvisor.in/Restaurant_Review-g255060-d2542730-Reviews-Muum_Maam_and_Tukshop-Sydney_New_South_Wales.html',\n",
       " 'https://www.tripadvisor.in/Restaurant_Review-g255060-d5033712-Reviews-Ragu_Pasta_Wine_bar-Sydney_New_South_Wales.html',\n",
       " 'https://www.tripadvisor.in/Restaurant_Review-g255060-d4943407-Reviews-The_Muglan_Nepalese_and_Indian_Restaurant-Sydney_New_South_Wales.html',\n",
       " 'https://www.tripadvisor.in/Restaurant_Review-g255060-d3341346-Reviews-Zushi-Sydney_New_South_Wales.html',\n",
       " 'https://www.tripadvisor.in/Restaurant_Review-g255060-d2093235-Reviews-Mad_Pizza_e_Bar-Sydney_New_South_Wales.html',\n",
       " 'https://www.tripadvisor.in/Restaurant_Review-g255060-d1080679-Reviews-Lumiere_Cafe-Sydney_New_South_Wales.html',\n",
       " 'https://www.tripadvisor.in/Restaurant_Review-g255060-d11649172-Reviews-Zushi-Sydney_New_South_Wales.html',\n",
       " 'https://www.tripadvisor.in/Restaurant_Review-g255060-d15276179-Reviews-Spice_Hub-Sydney_New_South_Wales.html',\n",
       " 'https://www.tripadvisor.in/Restaurant_Review-g255060-d5034038-Reviews-Zaida-Sydney_New_South_Wales.html',\n",
       " 'https://www.tripadvisor.in/Restaurant_Review-g552126-d6607828-Reviews-Italian_Bar-Woollahra_New_South_Wales.html',\n",
       " 'https://www.tripadvisor.in/Restaurant_Review-g552126-d7344004-Reviews-Chinta_Kechil-Woollahra_New_South_Wales.html',\n",
       " 'https://www.tripadvisor.in/Restaurant_Review-g255060-d11916744-Reviews-Long_Kin-Sydney_New_South_Wales.html',\n",
       " 'https://www.tripadvisor.in/Restaurant_Review-g255060-d1148062-Reviews-At_Bangkok_Restaurant-Sydney_New_South_Wales.html']"
      ]
     },
     "execution_count": 31,
     "metadata": {},
     "output_type": "execute_result"
    }
   ],
   "source": [
    "link"
   ]
  },
  {
   "cell_type": "code",
   "execution_count": null,
   "metadata": {},
   "outputs": [],
   "source": []
  }
 ],
 "metadata": {
  "kernelspec": {
   "display_name": "Python 3",
   "language": "python",
   "name": "python3"
  },
  "language_info": {
   "codemirror_mode": {
    "name": "ipython",
    "version": 3
   },
   "file_extension": ".py",
   "mimetype": "text/x-python",
   "name": "python",
   "nbconvert_exporter": "python",
   "pygments_lexer": "ipython3",
   "version": "3.8.2"
  }
 },
 "nbformat": 4,
 "nbformat_minor": 4
}
