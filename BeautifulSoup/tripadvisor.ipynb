{
 "cells": [
  {
   "cell_type": "code",
   "execution_count": 1,
   "metadata": {},
   "outputs": [],
   "source": [
    "from bs4 import BeautifulSoup\n",
    "import requests"
   ]
  },
  {
   "cell_type": "code",
   "execution_count": 7,
   "metadata": {},
   "outputs": [],
   "source": [
    "with open('restaurants.html', encoding=\"utf8\") as html_file:\n",
    "    soup = BeautifulSoup(html_file, 'lxml')"
   ]
  },
  {
   "cell_type": "code",
   "execution_count": 10,
   "metadata": {},
   "outputs": [],
   "source": [
    "div1 = soup.find(\"div\", class_ = \"_1llCuDZj\")"
   ]
  },
  {
   "cell_type": "code",
   "execution_count": 16,
   "metadata": {},
   "outputs": [
    {
     "data": {
      "text/plain": [
       "'Ho Jiak Haymarket'"
      ]
     },
     "execution_count": 16,
     "metadata": {},
     "output_type": "execute_result"
    }
   ],
   "source": [
    "div1.find(\"div\", class_ = \"_2Q7zqOgW\").a.text"
   ]
  },
  {
   "cell_type": "code",
   "execution_count": 28,
   "metadata": {},
   "outputs": [],
   "source": [
    "name = []\n",
    "link = []\n",
    "for div in soup.find_all(\"div\", class_ = \"_1llCuDZj\"):\n",
    "    name.append(div.find(\"div\", class_ = \"_2Q7zqOgW\").a.text)\n",
    "    link.append(div.find(\"div\", class_ = \"_2Q7zqOgW\").a[\"href\"])"
   ]
  },
  {
   "cell_type": "code",
   "execution_count": 29,
   "metadata": {},
   "outputs": [],
   "source": [
    "for i in range(0, len(link)):\n",
    "    link[i] = 'https://www.tripadvisor.in' + link[i]"
   ]
  },
  {
   "cell_type": "code",
   "execution_count": 30,
   "metadata": {},
   "outputs": [
    {
     "data": {
      "text/plain": [
       "35"
      ]
     },
     "execution_count": 30,
     "metadata": {},
     "output_type": "execute_result"
    }
   ],
   "source": [
    "len(link)"
   ]
  },
  {
   "cell_type": "code",
   "execution_count": 31,
   "metadata": {},
   "outputs": [
    {
     "data": {
      "text/plain": [
       "['https://www.tripadvisor.in/Restaurant_Review-g255060-d13372384-Reviews-Ho_Jiak_Haymarket-Sydney_New_South_Wales.html',\n",
       " 'https://www.tripadvisor.in/Restaurant_Review-g4366266-d724848-Reviews-Flavour_of_India-Edgecliff_Woollahra_New_South_Wales.html',\n",
       " 'https://www.tripadvisor.in/Restaurant_Review-g8572746-d947832-Reviews-Thai_Pothong-Newtown_New_South_Wales.html',\n",
       " 'https://www.tripadvisor.in/Restaurant_Review-g255060-d948797-Reviews-Malabar_South_Indian_Restaurant_in_Darlinghurst-Sydney_New_South_Wales.html',\n",
       " 'https://www.tripadvisor.in/Restaurant_Review-g255060-d5575066-Reviews-Fortune_Village_Chinese_Restaurant-Sydney_New_South_Wales.html',\n",
       " 'https://www.tripadvisor.in/Restaurant_Review-g255060-d6370288-Reviews-Pizza_Boccone-Sydney_New_South_Wales.html',\n",
       " 'https://www.tripadvisor.in/Restaurant_Review-g255060-d19753394-Reviews-Global_Dining_and_Bar-Sydney_New_South_Wales.html',\n",
       " 'https://www.tripadvisor.in/Restaurant_Review-g255060-d6577480-Reviews-Pizza_Autentico_Surry_Hills-Sydney_New_South_Wales.html',\n",
       " 'https://www.tripadvisor.in/Restaurant_Review-g255060-d724847-Reviews-Nawaz_Flavour_Of_India-Sydney_New_South_Wales.html',\n",
       " 'https://www.tripadvisor.in/Restaurant_Review-g255060-d9712258-Reviews-Al_Taglio-Sydney_New_South_Wales.html',\n",
       " 'https://www.tripadvisor.in/Restaurant_Review-g2686273-d4068831-Reviews-Chedi_Thai-McMahons_Point_North_Sydney_Greater_Sydney_New_South_Wales.html',\n",
       " 'https://www.tripadvisor.in/Restaurant_Review-g255060-d866763-Reviews-Chat_Thai_Haymarket-Sydney_New_South_Wales.html',\n",
       " 'https://www.tripadvisor.in/Restaurant_Review-g255060-d12829192-Reviews-Vizio_Caffe_e_Cucina-Sydney_New_South_Wales.html',\n",
       " 'https://www.tripadvisor.in/Restaurant_Review-g255060-d8683802-Reviews-Bombay_Street_Kitchen-Sydney_New_South_Wales.html',\n",
       " 'https://www.tripadvisor.in/Restaurant_Review-g8572746-d2449367-Reviews-Atom_Thai-Newtown_New_South_Wales.html',\n",
       " 'https://www.tripadvisor.in/Restaurant_Review-g255060-d10387473-Reviews-Kindness_Cafe-Sydney_New_South_Wales.html',\n",
       " 'https://www.tripadvisor.in/Restaurant_Review-g8572746-d738177-Reviews-Delhi_O_Delhi-Newtown_New_South_Wales.html',\n",
       " 'https://www.tripadvisor.in/Restaurant_Review-g255060-d726951-Reviews-Macchiato_Wood_Fire_Pizza_Coffee_Roastery-Sydney_New_South_Wales.html',\n",
       " 'https://www.tripadvisor.in/Restaurant_Review-g3675710-d726575-Reviews-La_Ricetta_Ristorante_Italiano-Enmore_New_South_Wales.html',\n",
       " 'https://www.tripadvisor.in/Restaurant_Review-g255060-d8845928-Reviews-Manjits_Wharf-Sydney_New_South_Wales.html',\n",
       " 'https://www.tripadvisor.in/Restaurant_Review-g255060-d6387636-Reviews-The_Colonial_British_Indian_Cuisine_Darlinghurst-Sydney_New_South_Wales.html',\n",
       " 'https://www.tripadvisor.in/Restaurant_Review-g255060-d729159-Reviews-Vrindavan_Indian_Restaurant-Sydney_New_South_Wales.html',\n",
       " 'https://www.tripadvisor.in/Restaurant_Review-g255060-d2542730-Reviews-Muum_Maam_and_Tukshop-Sydney_New_South_Wales.html',\n",
       " 'https://www.tripadvisor.in/Restaurant_Review-g255060-d5033712-Reviews-Ragu_Pasta_Wine_bar-Sydney_New_South_Wales.html',\n",
       " 'https://www.tripadvisor.in/Restaurant_Review-g255060-d4943407-Reviews-The_Muglan_Nepalese_and_Indian_Restaurant-Sydney_New_South_Wales.html',\n",
       " 'https://www.tripadvisor.in/Restaurant_Review-g255060-d3341346-Reviews-Zushi-Sydney_New_South_Wales.html',\n",
       " 'https://www.tripadvisor.in/Restaurant_Review-g255060-d2093235-Reviews-Mad_Pizza_e_Bar-Sydney_New_South_Wales.html',\n",
       " 'https://www.tripadvisor.in/Restaurant_Review-g255060-d1080679-Reviews-Lumiere_Cafe-Sydney_New_South_Wales.html',\n",
       " 'https://www.tripadvisor.in/Restaurant_Review-g255060-d11649172-Reviews-Zushi-Sydney_New_South_Wales.html',\n",
       " 'https://www.tripadvisor.in/Restaurant_Review-g255060-d15276179-Reviews-Spice_Hub-Sydney_New_South_Wales.html',\n",
       " 'https://www.tripadvisor.in/Restaurant_Review-g255060-d5034038-Reviews-Zaida-Sydney_New_South_Wales.html',\n",
       " 'https://www.tripadvisor.in/Restaurant_Review-g552126-d6607828-Reviews-Italian_Bar-Woollahra_New_South_Wales.html',\n",
       " 'https://www.tripadvisor.in/Restaurant_Review-g552126-d7344004-Reviews-Chinta_Kechil-Woollahra_New_South_Wales.html',\n",
       " 'https://www.tripadvisor.in/Restaurant_Review-g255060-d11916744-Reviews-Long_Kin-Sydney_New_South_Wales.html',\n",
       " 'https://www.tripadvisor.in/Restaurant_Review-g255060-d1148062-Reviews-At_Bangkok_Restaurant-Sydney_New_South_Wales.html']"
      ]
     },
     "execution_count": 31,
     "metadata": {},
     "output_type": "execute_result"
    }
   ],
   "source": [
    "link"
   ]
  },
  {
   "cell_type": "code",
   "execution_count": 62,
   "metadata": {},
   "outputs": [],
   "source": [
    "tel = []\n",
    "email = []\n",
    "for weblink in link:\n",
    "    qqq = requests.get(weblink).text\n",
    "    abc = BeautifulSoup(qqq, 'lxml')\n",
    "    abc1 = abc.find('div', class_ = \"restaurants-detail-overview-cards-LocationOverviewCard__cardColumn--2ALwF restaurants-detail-overview-cards-LocationOverviewCard__cx_brand_refresh_phase2--35xCy\").find_all(\"a\")[2]\n",
    "    email.append(abc1[\"href\"])\n",
    "    abc1 = abc.find('div', class_ = \"restaurants-detail-overview-cards-LocationOverviewCard__cardColumn--2ALwF restaurants-detail-overview-cards-LocationOverviewCard__cx_brand_refresh_phase2--35xCy\").find_all(\"a\")[3]\n",
    "    tel.append(abc1[\"href\"])\n",
    "    "
   ]
  },
  {
   "cell_type": "code",
   "execution_count": 63,
   "metadata": {},
   "outputs": [
    {
     "data": {
      "text/plain": [
       "['tel:+61 2 8040 0252',\n",
       " 'tel:+61 2 9326 2659',\n",
       " 'tel:+61 2 9550 6277',\n",
       " 'tel:+61 2 9332 1755',\n",
       " 'tel:+61 2 9299 7273',\n",
       " '/UpdateListing-d6370288',\n",
       " 'tel:+61 2 9332 1666',\n",
       " 'tel:+61 2 9267 9992',\n",
       " 'tel:+61 2 9692 0662',\n",
       " 'tel:+61 2 8021 5944',\n",
       " 'tel:+61 2 8021 2828',\n",
       " 'tel:+61 2 9211 1808',\n",
       " 'tel:+61 2 9358 2231',\n",
       " 'tel:+61 2 9660 3726',\n",
       " '/UpdateListing-d2449367',\n",
       " 'tel:+61 2 9331 5578',\n",
       " 'tel:+61 2 9557 4455',\n",
       " 'tel:+61 2 9262 9525',\n",
       " 'tel:+61 2 9519 0555',\n",
       " 'tel:+61 2 9279 3379',\n",
       " 'tel:+61 2 9332 1336',\n",
       " 'tel:+61 2 9566 1135',\n",
       " 'tel:+61 2 9318 0881',\n",
       " 'tel:+61 412 860 000',\n",
       " 'tel:+61 2 8068 2759',\n",
       " 'tel:+61 2 9380 8830',\n",
       " 'tel:+61 1300 112 210',\n",
       " 'tel:+61 2 9331 6184',\n",
       " 'tel:+61 2 8072 7383',\n",
       " 'tel:+61 2 8937 3046',\n",
       " 'tel:+61 2 8094 8182',\n",
       " 'tel:+61 2 8021 3346',\n",
       " '/UpdateListing-d7344004',\n",
       " 'tel:+61 451 685 944',\n",
       " 'tel:+61 2 9211 5232']"
      ]
     },
     "execution_count": 63,
     "metadata": {},
     "output_type": "execute_result"
    }
   ],
   "source": [
    "tel"
   ]
  },
  {
   "cell_type": "code",
   "execution_count": 65,
   "metadata": {},
   "outputs": [
    {
     "data": {
      "text/plain": [
       "35"
      ]
     },
     "execution_count": 65,
     "metadata": {},
     "output_type": "execute_result"
    }
   ],
   "source": [
    "len(email)"
   ]
  },
  {
   "cell_type": "code",
   "execution_count": 67,
   "metadata": {},
   "outputs": [],
   "source": [
    "import pandas as pd"
   ]
  },
  {
   "cell_type": "code",
   "execution_count": 86,
   "metadata": {},
   "outputs": [],
   "source": [
    "df = pd.DataFrame(list(zip(name, tel, email)), columns = [\"Restaurant\", \"Phone\", \"Email\"])"
   ]
  },
  {
   "cell_type": "code",
   "execution_count": 87,
   "metadata": {},
   "outputs": [
    {
     "data": {
      "text/html": [
       "<div>\n",
       "<style scoped>\n",
       "    .dataframe tbody tr th:only-of-type {\n",
       "        vertical-align: middle;\n",
       "    }\n",
       "\n",
       "    .dataframe tbody tr th {\n",
       "        vertical-align: top;\n",
       "    }\n",
       "\n",
       "    .dataframe thead th {\n",
       "        text-align: right;\n",
       "    }\n",
       "</style>\n",
       "<table border=\"1\" class=\"dataframe\">\n",
       "  <thead>\n",
       "    <tr style=\"text-align: right;\">\n",
       "      <th></th>\n",
       "      <th>Restaurant</th>\n",
       "      <th>Phone</th>\n",
       "      <th>Email</th>\n",
       "    </tr>\n",
       "  </thead>\n",
       "  <tbody>\n",
       "    <tr>\n",
       "      <th>0</th>\n",
       "      <td>Ho Jiak Haymarket</td>\n",
       "      <td>tel:+61 2 8040 0252</td>\n",
       "      <td>mailto:hello@hojiak.com.au?subject=?</td>\n",
       "    </tr>\n",
       "    <tr>\n",
       "      <th>1</th>\n",
       "      <td>1. Flavour of India</td>\n",
       "      <td>tel:+61 2 9326 2659</td>\n",
       "      <td>mailto:dine@flavourofindia.co?subject=?</td>\n",
       "    </tr>\n",
       "    <tr>\n",
       "      <th>2</th>\n",
       "      <td>2. Thai Pothong</td>\n",
       "      <td>tel:+61 2 9550 6277</td>\n",
       "      <td>mailto:thaipothong@bigpond.com.au?subject=?</td>\n",
       "    </tr>\n",
       "    <tr>\n",
       "      <th>3</th>\n",
       "      <td>3. Malabar South Indian Restaurant in Darlingh...</td>\n",
       "      <td>tel:+61 2 9332 1755</td>\n",
       "      <td>mailto:darlinghurst@malabarcuisine.com.au?subj...</td>\n",
       "    </tr>\n",
       "    <tr>\n",
       "      <th>4</th>\n",
       "      <td>4. Fortune Village Chinese Restaurant</td>\n",
       "      <td>tel:+61 2 9299 7273</td>\n",
       "      <td>mailto:enquiries@fortunevillage.com.au?subject=?</td>\n",
       "    </tr>\n",
       "    <tr>\n",
       "      <th>5</th>\n",
       "      <td>5. Pizza Boccone</td>\n",
       "      <td>/UpdateListing-d6370288</td>\n",
       "      <td>tel:+61 2 9357 5591</td>\n",
       "    </tr>\n",
       "    <tr>\n",
       "      <th>6</th>\n",
       "      <td>Global Dining and Bar</td>\n",
       "      <td>tel:+61 2 9332 1666</td>\n",
       "      <td>mailto:enquiry@globaldining.com.au?subject=?</td>\n",
       "    </tr>\n",
       "    <tr>\n",
       "      <th>7</th>\n",
       "      <td>6. Pizza Autentico - Surry Hills</td>\n",
       "      <td>tel:+61 2 9267 9992</td>\n",
       "      <td>mailto:pizza@pizzaautentico.com.au?subject=?</td>\n",
       "    </tr>\n",
       "    <tr>\n",
       "      <th>8</th>\n",
       "      <td>7. Nawaz Flavour Of India</td>\n",
       "      <td>tel:+61 2 9692 0662</td>\n",
       "      <td>mailto:nawazflavour@gmail.com?subject=?</td>\n",
       "    </tr>\n",
       "    <tr>\n",
       "      <th>9</th>\n",
       "      <td>8. Al Taglio</td>\n",
       "      <td>tel:+61 2 8021 5944</td>\n",
       "      <td>mailto:jacopo@altaglio.com.au?subject=?</td>\n",
       "    </tr>\n",
       "    <tr>\n",
       "      <th>10</th>\n",
       "      <td>9. Chedi Thai</td>\n",
       "      <td>tel:+61 2 8021 2828</td>\n",
       "      <td>mailto:chedi@optusnet.com.au?subject=?</td>\n",
       "    </tr>\n",
       "    <tr>\n",
       "      <th>11</th>\n",
       "      <td>10. Chat Thai Haymarket</td>\n",
       "      <td>tel:+61 2 9211 1808</td>\n",
       "      <td>mailto:thaitown@chatthai.com.au?subject=?</td>\n",
       "    </tr>\n",
       "    <tr>\n",
       "      <th>12</th>\n",
       "      <td>Vizio Caffe e Cucina</td>\n",
       "      <td>tel:+61 2 9358 2231</td>\n",
       "      <td>mailto:info@viziocc.com.au?subject=?</td>\n",
       "    </tr>\n",
       "    <tr>\n",
       "      <th>13</th>\n",
       "      <td>11. Bombay Street Kitchen</td>\n",
       "      <td>tel:+61 2 9660 3726</td>\n",
       "      <td>mailto:info@bombaystreetkitchen.com.au?subject=?</td>\n",
       "    </tr>\n",
       "    <tr>\n",
       "      <th>14</th>\n",
       "      <td>12. Atom Thai</td>\n",
       "      <td>/UpdateListing-d2449367</td>\n",
       "      <td>tel:+61 2 9550 5965</td>\n",
       "    </tr>\n",
       "    <tr>\n",
       "      <th>15</th>\n",
       "      <td>13. Kindness Cafe</td>\n",
       "      <td>tel:+61 2 9331 5578</td>\n",
       "      <td>mailto:info@kindness-cafe.com?subject=?</td>\n",
       "    </tr>\n",
       "    <tr>\n",
       "      <th>16</th>\n",
       "      <td>14. Delhi 'O' Delhi</td>\n",
       "      <td>tel:+61 2 9557 4455</td>\n",
       "      <td>mailto:events@delhiodelhi.com.au?subject=?</td>\n",
       "    </tr>\n",
       "    <tr>\n",
       "      <th>17</th>\n",
       "      <td>15. Macchiato Wood Fire Pizza &amp; Coffee Roastery</td>\n",
       "      <td>tel:+61 2 9262 9525</td>\n",
       "      <td>mailto:enquiries@macchiato.com.au?subject=?</td>\n",
       "    </tr>\n",
       "    <tr>\n",
       "      <th>18</th>\n",
       "      <td>16. La Ricetta Ristorante Italiano</td>\n",
       "      <td>tel:+61 2 9519 0555</td>\n",
       "      <td>mailto:enquiries@laricetta.com.au?subject=?</td>\n",
       "    </tr>\n",
       "    <tr>\n",
       "      <th>19</th>\n",
       "      <td>17. Manjits Wharf</td>\n",
       "      <td>tel:+61 2 9279 3379</td>\n",
       "      <td>mailto:info@manjits.com.au?subject=?</td>\n",
       "    </tr>\n",
       "    <tr>\n",
       "      <th>20</th>\n",
       "      <td>18. The Colonial British Indian Cuisine, Darli...</td>\n",
       "      <td>tel:+61 2 9332 1336</td>\n",
       "      <td>mailto:darlinghurst@thecolonialrestaurant.com....</td>\n",
       "    </tr>\n",
       "    <tr>\n",
       "      <th>21</th>\n",
       "      <td>19. Vrindavan Indian Restaurant</td>\n",
       "      <td>tel:+61 2 9566 1135</td>\n",
       "      <td>mailto:vrindavanrest@gmail.com?subject=?</td>\n",
       "    </tr>\n",
       "    <tr>\n",
       "      <th>22</th>\n",
       "      <td>20. Muum Maam and Tukshop</td>\n",
       "      <td>tel:+61 2 9318 0881</td>\n",
       "      <td>mailto:reservations@muummaam.com.au?subject=?</td>\n",
       "    </tr>\n",
       "    <tr>\n",
       "      <th>23</th>\n",
       "      <td>Ragu - Pasta &amp; Wine bar</td>\n",
       "      <td>tel:+61 412 860 000</td>\n",
       "      <td>mailto:info@vitadolce.com.au?subject=?</td>\n",
       "    </tr>\n",
       "    <tr>\n",
       "      <th>24</th>\n",
       "      <td>21. The Muglan Nepalese and Indian Restaurant</td>\n",
       "      <td>tel:+61 2 8068 2759</td>\n",
       "      <td>mailto:info@themuglan.com.au?subject=?</td>\n",
       "    </tr>\n",
       "    <tr>\n",
       "      <th>25</th>\n",
       "      <td>22. Zushi</td>\n",
       "      <td>tel:+61 2 9380 8830</td>\n",
       "      <td>mailto:info@zushi.com.au?subject=?</td>\n",
       "    </tr>\n",
       "    <tr>\n",
       "      <th>26</th>\n",
       "      <td>23. Mad Pizza e Bar</td>\n",
       "      <td>tel:+61 1300 112 210</td>\n",
       "      <td>mailto:info@madpizzaebar.com?subject=?</td>\n",
       "    </tr>\n",
       "    <tr>\n",
       "      <th>27</th>\n",
       "      <td>24. Lumiere Cafe</td>\n",
       "      <td>tel:+61 2 9331 6184</td>\n",
       "      <td>mailto:info@lumierecafe.com.au?subject=?</td>\n",
       "    </tr>\n",
       "    <tr>\n",
       "      <th>28</th>\n",
       "      <td>25. Zushi</td>\n",
       "      <td>tel:+61 2 8072 7383</td>\n",
       "      <td>mailto:barangaroo@zushi.com.au?subject=?</td>\n",
       "    </tr>\n",
       "    <tr>\n",
       "      <th>29</th>\n",
       "      <td>Spice Hub</td>\n",
       "      <td>tel:+61 2 8937 3046</td>\n",
       "      <td>mailto:info@spicehub.biz?subject=?</td>\n",
       "    </tr>\n",
       "    <tr>\n",
       "      <th>30</th>\n",
       "      <td>26. Zaida</td>\n",
       "      <td>tel:+61 2 8094 8182</td>\n",
       "      <td>mailto:bookings@zaidacafe.com.au?subject=?</td>\n",
       "    </tr>\n",
       "    <tr>\n",
       "      <th>31</th>\n",
       "      <td>27. Italian Bar</td>\n",
       "      <td>tel:+61 2 8021 3346</td>\n",
       "      <td>mailto:filippo@pizzaparty.com.au?subject=?</td>\n",
       "    </tr>\n",
       "    <tr>\n",
       "      <th>32</th>\n",
       "      <td>28. Chinta Kechil</td>\n",
       "      <td>/UpdateListing-d7344004</td>\n",
       "      <td>tel:+61 2 9327 8888</td>\n",
       "    </tr>\n",
       "    <tr>\n",
       "      <th>33</th>\n",
       "      <td>29. Long Kin</td>\n",
       "      <td>tel:+61 451 685 944</td>\n",
       "      <td>mailto:longkinpyrmont@outlook.com?subject=?</td>\n",
       "    </tr>\n",
       "    <tr>\n",
       "      <th>34</th>\n",
       "      <td>30. At Bangkok Restaurant</td>\n",
       "      <td>tel:+61 2 9211 5232</td>\n",
       "      <td>mailto:aoubodhi@gmail.com?subject=?</td>\n",
       "    </tr>\n",
       "  </tbody>\n",
       "</table>\n",
       "</div>"
      ],
      "text/plain": [
       "                                           Restaurant  \\\n",
       "0                                   Ho Jiak Haymarket   \n",
       "1                                 1. Flavour of India   \n",
       "2                                     2. Thai Pothong   \n",
       "3   3. Malabar South Indian Restaurant in Darlingh...   \n",
       "4               4. Fortune Village Chinese Restaurant   \n",
       "5                                    5. Pizza Boccone   \n",
       "6                               Global Dining and Bar   \n",
       "7                    6. Pizza Autentico - Surry Hills   \n",
       "8                           7. Nawaz Flavour Of India   \n",
       "9                                        8. Al Taglio   \n",
       "10                                      9. Chedi Thai   \n",
       "11                            10. Chat Thai Haymarket   \n",
       "12                               Vizio Caffe e Cucina   \n",
       "13                          11. Bombay Street Kitchen   \n",
       "14                                      12. Atom Thai   \n",
       "15                                  13. Kindness Cafe   \n",
       "16                                14. Delhi 'O' Delhi   \n",
       "17    15. Macchiato Wood Fire Pizza & Coffee Roastery   \n",
       "18                 16. La Ricetta Ristorante Italiano   \n",
       "19                                  17. Manjits Wharf   \n",
       "20  18. The Colonial British Indian Cuisine, Darli...   \n",
       "21                    19. Vrindavan Indian Restaurant   \n",
       "22                          20. Muum Maam and Tukshop   \n",
       "23                            Ragu - Pasta & Wine bar   \n",
       "24      21. The Muglan Nepalese and Indian Restaurant   \n",
       "25                                          22. Zushi   \n",
       "26                                23. Mad Pizza e Bar   \n",
       "27                                   24. Lumiere Cafe   \n",
       "28                                          25. Zushi   \n",
       "29                                          Spice Hub   \n",
       "30                                          26. Zaida   \n",
       "31                                    27. Italian Bar   \n",
       "32                                  28. Chinta Kechil   \n",
       "33                                       29. Long Kin   \n",
       "34                          30. At Bangkok Restaurant   \n",
       "\n",
       "                      Phone                                              Email  \n",
       "0       tel:+61 2 8040 0252               mailto:hello@hojiak.com.au?subject=?  \n",
       "1       tel:+61 2 9326 2659            mailto:dine@flavourofindia.co?subject=?  \n",
       "2       tel:+61 2 9550 6277        mailto:thaipothong@bigpond.com.au?subject=?  \n",
       "3       tel:+61 2 9332 1755  mailto:darlinghurst@malabarcuisine.com.au?subj...  \n",
       "4       tel:+61 2 9299 7273   mailto:enquiries@fortunevillage.com.au?subject=?  \n",
       "5   /UpdateListing-d6370288                                tel:+61 2 9357 5591  \n",
       "6       tel:+61 2 9332 1666       mailto:enquiry@globaldining.com.au?subject=?  \n",
       "7       tel:+61 2 9267 9992       mailto:pizza@pizzaautentico.com.au?subject=?  \n",
       "8       tel:+61 2 9692 0662            mailto:nawazflavour@gmail.com?subject=?  \n",
       "9       tel:+61 2 8021 5944            mailto:jacopo@altaglio.com.au?subject=?  \n",
       "10      tel:+61 2 8021 2828             mailto:chedi@optusnet.com.au?subject=?  \n",
       "11      tel:+61 2 9211 1808          mailto:thaitown@chatthai.com.au?subject=?  \n",
       "12      tel:+61 2 9358 2231               mailto:info@viziocc.com.au?subject=?  \n",
       "13      tel:+61 2 9660 3726   mailto:info@bombaystreetkitchen.com.au?subject=?  \n",
       "14  /UpdateListing-d2449367                                tel:+61 2 9550 5965  \n",
       "15      tel:+61 2 9331 5578            mailto:info@kindness-cafe.com?subject=?  \n",
       "16      tel:+61 2 9557 4455         mailto:events@delhiodelhi.com.au?subject=?  \n",
       "17      tel:+61 2 9262 9525        mailto:enquiries@macchiato.com.au?subject=?  \n",
       "18      tel:+61 2 9519 0555        mailto:enquiries@laricetta.com.au?subject=?  \n",
       "19      tel:+61 2 9279 3379               mailto:info@manjits.com.au?subject=?  \n",
       "20      tel:+61 2 9332 1336  mailto:darlinghurst@thecolonialrestaurant.com....  \n",
       "21      tel:+61 2 9566 1135           mailto:vrindavanrest@gmail.com?subject=?  \n",
       "22      tel:+61 2 9318 0881      mailto:reservations@muummaam.com.au?subject=?  \n",
       "23      tel:+61 412 860 000             mailto:info@vitadolce.com.au?subject=?  \n",
       "24      tel:+61 2 8068 2759             mailto:info@themuglan.com.au?subject=?  \n",
       "25      tel:+61 2 9380 8830                 mailto:info@zushi.com.au?subject=?  \n",
       "26     tel:+61 1300 112 210             mailto:info@madpizzaebar.com?subject=?  \n",
       "27      tel:+61 2 9331 6184           mailto:info@lumierecafe.com.au?subject=?  \n",
       "28      tel:+61 2 8072 7383           mailto:barangaroo@zushi.com.au?subject=?  \n",
       "29      tel:+61 2 8937 3046                 mailto:info@spicehub.biz?subject=?  \n",
       "30      tel:+61 2 8094 8182         mailto:bookings@zaidacafe.com.au?subject=?  \n",
       "31      tel:+61 2 8021 3346         mailto:filippo@pizzaparty.com.au?subject=?  \n",
       "32  /UpdateListing-d7344004                                tel:+61 2 9327 8888  \n",
       "33      tel:+61 451 685 944        mailto:longkinpyrmont@outlook.com?subject=?  \n",
       "34      tel:+61 2 9211 5232                mailto:aoubodhi@gmail.com?subject=?  "
      ]
     },
     "execution_count": 87,
     "metadata": {},
     "output_type": "execute_result"
    }
   ],
   "source": [
    "df"
   ]
  },
  {
   "cell_type": "code",
   "execution_count": 91,
   "metadata": {},
   "outputs": [],
   "source": [
    "df['Email'] = df['Email'].str.replace(\"mailto:\", \"\")"
   ]
  },
  {
   "cell_type": "code",
   "execution_count": 94,
   "metadata": {},
   "outputs": [],
   "source": [
    "df['Email'] = df['Email'].str.replace(\"subject=?\", \"\")"
   ]
  },
  {
   "cell_type": "code",
   "execution_count": 99,
   "metadata": {},
   "outputs": [],
   "source": [
    "df.to_clipboard()"
   ]
  },
  {
   "cell_type": "code",
   "execution_count": null,
   "metadata": {},
   "outputs": [],
   "source": []
  }
 ],
 "metadata": {
  "kernelspec": {
   "display_name": "Python 3",
   "language": "python",
   "name": "python3"
  },
  "language_info": {
   "codemirror_mode": {
    "name": "ipython",
    "version": 3
   },
   "file_extension": ".py",
   "mimetype": "text/x-python",
   "name": "python",
   "nbconvert_exporter": "python",
   "pygments_lexer": "ipython3",
   "version": "3.8.2"
  }
 },
 "nbformat": 4,
 "nbformat_minor": 4
}
